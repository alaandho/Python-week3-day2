{
 "cells": [
  {
   "cell_type": "markdown",
   "metadata": {},
   "source": [
    "# Map, Filter, Reduce, Lambda & Recursion"
   ]
  },
  {
   "cell_type": "markdown",
   "metadata": {},
   "source": [
    "## Tasks Today:\n",
    "\n",
    "1) <b>Lambda Functions</b> <br>\n",
    " &nbsp;&nbsp;&nbsp;&nbsp; a) Syntax <br>\n",
    " &nbsp;&nbsp;&nbsp;&nbsp; b) Saving to a Variable <br>\n",
    " &nbsp;&nbsp;&nbsp;&nbsp; c) Multiple Inputs <br>\n",
    " &nbsp;&nbsp;&nbsp;&nbsp; d) Passing a Lambda into a Function <br>\n",
    " &nbsp;&nbsp;&nbsp;&nbsp; e) Returning a Lambda from a Function <br>\n",
    " &nbsp;&nbsp;&nbsp;&nbsp; f) In-Class Exercise #1 <br>\n",
    "2) <b>Map</b> <br>\n",
    " &nbsp;&nbsp;&nbsp;&nbsp; a) Syntax <br>\n",
    " &nbsp;&nbsp;&nbsp;&nbsp; b) Using Lambda's with Map <br>\n",
    " &nbsp;&nbsp;&nbsp;&nbsp; c) In-Class Exercise #2 <br>\n",
    "3) <b>Filter</b> <br>\n",
    " &nbsp;&nbsp;&nbsp;&nbsp; a) Syntax <br>\n",
    " &nbsp;&nbsp;&nbsp;&nbsp; b) Using Lambda's with Filter <br>\n",
    " &nbsp;&nbsp;&nbsp;&nbsp; c) In-Class Exercise #3 <br>\n",
    "4) <b>Reduce</b> <br>\n",
    " &nbsp;&nbsp;&nbsp;&nbsp; a) Syntax <br>\n",
    " &nbsp;&nbsp;&nbsp;&nbsp; b) Using Lambda's with Reduce <br>\n",
    " &nbsp;&nbsp;&nbsp;&nbsp; c) In-Class Exercise #4 <br>\n",
    "5) <b>Recursion</b> <br>\n",
    " &nbsp;&nbsp;&nbsp;&nbsp; a) Implementing a Base <br>\n",
    " &nbsp;&nbsp;&nbsp;&nbsp; b) Writing a Factorial Function <br>\n",
    " &nbsp;&nbsp;&nbsp;&nbsp; c) In-Class Exercise #5 <br>\n",
    "6) <b>Generators & Iterators</b> <br>\n",
    " &nbsp;&nbsp;&nbsp;&nbsp; a) Yield Keyword <br>\n",
    " &nbsp;&nbsp;&nbsp;&nbsp; b) Inifinite Generator <br>\n",
    " &nbsp;&nbsp;&nbsp;&nbsp; c) In-Class Exercise #6 <br>\n",
    "7) <b>Exercises</b> <br>\n",
    " &nbsp;&nbsp;&nbsp;&nbsp; a) Exercise #1 - Filtering Empty Strings <br>\n",
    " &nbsp;&nbsp;&nbsp;&nbsp; b) Exercise #2 - Sorting with Last Name <br>\n",
    " &nbsp;&nbsp;&nbsp;&nbsp; c) Exercise #3 - Conversion to Farhenheit <br>\n",
    " &nbsp;&nbsp;&nbsp;&nbsp; d) Exercise #4 - Fibonacci Sequence <br>"
   ]
  },
  {
   "cell_type": "markdown",
   "metadata": {},
   "source": [
    "## Lambda Functions <br>\n",
    "<p>Lambda functions... or \"Anonymous Functions\" are referring to inline functions with no name. The keyword lambda denotes the no name function, and executes within a single line. Without saving it to a variable; however, it is not able to be used, unless passed in either as a paramater or within list comprehension.<br>Written as \"(keyword lambda) (one or more inputs) (colon) (function to be executed)\"</p>"
   ]
  },
  {
   "cell_type": "markdown",
   "metadata": {},
   "source": [
    "#### Syntax"
   ]
  },
  {
   "cell_type": "code",
   "execution_count": 3,
   "metadata": {},
   "outputs": [
    {
     "name": "stdout",
     "output_type": "stream",
     "text": [
      "12\n",
      "12\n"
     ]
    }
   ],
   "source": [
    "def addTwo(x):\n",
    "    return x + 2\n",
    "\n",
    "print(addTwo(10))\n",
    "\n",
    "#Lamba function syntax\n",
    "#Syntax without saving to a variable\n",
    "\n",
    "print((lambda x: x + 2)(10))"
   ]
  },
  {
   "cell_type": "markdown",
   "metadata": {},
   "source": [
    "#### Saving to a Variable"
   ]
  },
  {
   "cell_type": "code",
   "execution_count": 4,
   "metadata": {},
   "outputs": [
    {
     "data": {
      "text/plain": [
       "12"
      ]
     },
     "execution_count": 4,
     "metadata": {},
     "output_type": "execute_result"
    }
   ],
   "source": [
    "l_test = lambda x: x + 2 #defining a function and naming it #i have a function has one parameter x: x+2\n",
    "l_test(10)"
   ]
  },
  {
   "cell_type": "markdown",
   "metadata": {},
   "source": [
    "#### Multiple Inputs"
   ]
  },
  {
   "cell_type": "code",
   "execution_count": 7,
   "metadata": {},
   "outputs": [
    {
     "name": "stdout",
     "output_type": "stream",
     "text": [
      "60\n",
      "60\n"
     ]
    }
   ],
   "source": [
    "#multiple inputs with no variables\n",
    "print((lambda x,y,z: x * y * z)(2,3,10))\n",
    "\n",
    "\n",
    "#Multiple inputs with variable storying the function\n",
    "x_test = lambda x,y,z: x*y*z\n",
    "print(x_test(2,3,10))"
   ]
  },
  {
   "cell_type": "markdown",
   "metadata": {},
   "source": [
    "#### Passing a Lambda into a Function"
   ]
  },
  {
   "cell_type": "code",
   "execution_count": 8,
   "metadata": {},
   "outputs": [
    {
     "data": {
      "text/plain": [
       "16"
      ]
     },
     "execution_count": 8,
     "metadata": {},
     "output_type": "execute_result"
    }
   ],
   "source": [
    "def multiply(f, num):  #f expects a lambda function. num expects a number (int or float)\n",
    "    return f(num)\n",
    "multiply(lambda x: x**2, 4) #lambda x: x**2 first parameter, 4 second parameter\n",
    "    \n",
    "#Function is performing the following actions\n",
    "# f = lambda x: x**2\n",
    "# num = 4\n",
    "# f(num) # or f(4)"
   ]
  },
  {
   "cell_type": "markdown",
   "metadata": {},
   "source": [
    "#### Returning a Lambda from a Function"
   ]
  },
  {
   "cell_type": "code",
   "execution_count": 14,
   "metadata": {},
   "outputs": [
    {
     "name": "stdout",
     "output_type": "stream",
     "text": [
      "8\n",
      "<function returnLamb.<locals>.<lambda> at 0x7fed6bee0160>\n",
      "19\n"
     ]
    }
   ],
   "source": [
    "#regular defined function\n",
    "def multiply_test(num):\n",
    "    return num * 4\n",
    "\n",
    "\n",
    "#Function within another function\n",
    "def returnFunc():\n",
    "    test = 4  #could be multiple values and/or functionality\n",
    "    def multiply(num): #defined a function within returnFunc()\n",
    "        return num*2\n",
    "    return multiply #test number, multiply\n",
    "f_return = returnFunc()\n",
    "print(f_return(4))\n",
    "\n",
    "\n",
    "#Lambda function return\n",
    "def returnLamb(b,c):   #outerscope is going to give access to b + c\n",
    "    return lambda x,a: x + a + b + c\n",
    "r_lamb = returnLamb(4,5)\n",
    "print(r_lamb) #pass in 4,5 as b+c\n",
    "print(r_lamb(5,5)) #pass in 5,5 as x+a\n"
   ]
  },
  {
   "cell_type": "markdown",
   "metadata": {},
   "source": [
    "#### If Statements within Lambdas"
   ]
  },
  {
   "cell_type": "code",
   "execution_count": 16,
   "metadata": {},
   "outputs": [
    {
     "name": "stdout",
     "output_type": "stream",
     "text": [
      "30\n",
      "11\n",
      "4\n",
      "30\n"
     ]
    }
   ],
   "source": [
    "#lambda x: (true condition) if statement else (False condition)\n",
    "#True statement or condidition on what we want to return\n",
    "\n",
    "#Conditional statement in regular defined function\n",
    "def conditions(num):\n",
    "    if num > 10:\n",
    "        return num *2\n",
    "    else:\n",
    "        return num +2\n",
    "#pass in 15 and trigger if statement\n",
    "print(conditions(15))\n",
    "print(conditions(9))\n",
    "\n",
    "\n",
    "#Lambda syntax for conditionals\n",
    "f_condition = lambda x: x*2 if x > 10 else x+2\n",
    "#true value here if  x>10 else x+2\n",
    "\n",
    "print(f_condition(2))\n",
    "print(f_condition(15))"
   ]
  },
  {
   "cell_type": "markdown",
   "metadata": {},
   "source": [
    "#### In-Class Exercise #1 <br>\n",
    "<p>Write an anonymous function that cubes the arguments passed in and assign the anonymous function to a variable 'f'.</p>"
   ]
  },
  {
   "cell_type": "code",
   "execution_count": 21,
   "metadata": {},
   "outputs": [
    {
     "name": "stdout",
     "output_type": "stream",
     "text": [
      "8\n",
      "1000\n"
     ]
    }
   ],
   "source": [
    "f = lambda x: x**3\n",
    "print(f(2))\n",
    "\n",
    "#or\n",
    "\n",
    "def cubed(f):\n",
    "    return f**3\n",
    "print(cubed(10))"
   ]
  },
  {
   "cell_type": "markdown",
   "metadata": {},
   "source": [
    "## Map <br>\n",
    "<p>The map function allows you to iterate over an entire list while running a function on each item of the list. This is why the map function works well with lambda's, because it simplifies things and you write less lines of code.<br>The syntax for a map function is \"map(function to be used, list to be used)\"<br>However, you must be careful, as the map function returns a map object, not a list. To turn it into a list we use the list() type conversion.</p>"
   ]
  },
  {
   "cell_type": "markdown",
   "metadata": {},
   "source": [
    "#### Syntax"
   ]
  },
  {
   "cell_type": "code",
   "execution_count": 30,
   "metadata": {},
   "outputs": [
    {
     "name": "stdout",
     "output_type": "stream",
     "text": [
      "(4, 4.0)\n",
      "(22, 50)\n",
      "[(16, 16.0), (11, 10), (20, 3), (9, 9.0), (15, 6), (20, 10)]\n",
      "[64, 11, 20, 27, 15, 20]\n"
     ]
    }
   ],
   "source": [
    "#map(function, iterable, iterable(list,set,dictionary,tuple))\n",
    "#runs a for loop on each item \n",
    "#predefined user functions and lambdas are both acceptable as the first parameter\n",
    "\n",
    "def squared(num, num2):\n",
    "    if num < 10 and num2 < 10:    #if one side is false the entire is false\n",
    "        return num **2, num **2.  #return first num squared and second num squared\n",
    "    else:                         #if either of the num are not true\n",
    "        return num, num2\n",
    "print(squared(2,5))                #True #pass in 2,5 as num and num2\n",
    "print(squared(22,50))        #false\n",
    "\n",
    "\n",
    "numbers = [4,11,20,3,15,20]\n",
    "more_nums = [4,10,3,2,6,10]\n",
    "\n",
    "\n",
    "#map this function\n",
    "squared_nums = list(map(squared, numbers, more_nums))\n",
    "print(squared_nums)\n",
    "\n",
    "\n",
    "#one iterable vs 2\n",
    "def cubed(num):\n",
    "    if num < 5:\n",
    "        return num **3\n",
    "    else:\n",
    "        return num\n",
    "cubed_nums = list(map(cubed,numbers))\n",
    "print(cubed_nums)"
   ]
  },
  {
   "cell_type": "markdown",
   "metadata": {},
   "source": [
    "#### Using Lambda's with Map"
   ]
  },
  {
   "cell_type": "code",
   "execution_count": 33,
   "metadata": {},
   "outputs": [
    {
     "name": "stdout",
     "output_type": "stream",
     "text": [
      "[(16, 16), (11, 10), (20, 3), (9, 4), (15, 6), (20, 10)]\n",
      "[64, 11, 20, 27, 15, 20]\n"
     ]
    }
   ],
   "source": [
    "#map(lambda function, list or other iterable)\n",
    "\n",
    "\n",
    "#Multiple iterables/input\n",
    "multiple_map = list(map((lambda x,y: (x**2,y**2) if x<10 and y<10 else (x,y)), numbers, more_nums))\n",
    "print(multiple_map)\n",
    "\n",
    "\n",
    "\n",
    "#Single iterable version\n",
    "cubed_nums_lamb = list(map((lambda x: x**3 if x<5 else x), numbers))\n",
    "print(cubed_nums_lamb)\n"
   ]
  },
  {
   "cell_type": "markdown",
   "metadata": {},
   "source": [
    "#### In-Class Exercise #2 <br>\n",
    "<p>Use the map function to double each number and subtract one from in the list by using a lambda function</p>"
   ]
  },
  {
   "cell_type": "code",
   "execution_count": 47,
   "metadata": {},
   "outputs": [
    {
     "name": "stdout",
     "output_type": "stream",
     "text": [
      "[(7, 7), (21, 19), (39, 5), (5, 3), (29, 19), (39, 3)]\n"
     ]
    }
   ],
   "source": [
    "numbers = [4,11,20,3,15,20]\n",
    "more_nums = [4,10,3,2,10,2]\n",
    "#[(7,7), (21,19), (39,5), (5,3), (29,19), (39,3)]\n",
    "\n",
    "\n",
    "# def multiple(num, num2):\n",
    "#     if num >1 and num2 >1:\n",
    "#         return num *2 -1, num2 *2 -1\n",
    "#     else:\n",
    "#         return num, num2\n",
    "\n",
    "multiple_map = list(map((lambda x,y: ((x*2-1),(y*2-1))), numbers, more_nums))\n",
    "print(multiple_map)\n",
    "    "
   ]
  },
  {
   "cell_type": "markdown",
   "metadata": {},
   "source": [
    "## Filter() <br>\n",
    "<p>Filter's are similar to the map function, where you're able to pass a function argument and a list argument and filter out something from the list based on the conditions passed. Similar to the map function, it returns a filter object, so you need to type convert it to a list()</p>"
   ]
  },
  {
   "cell_type": "markdown",
   "metadata": {},
   "source": [
    "#### Syntax"
   ]
  },
  {
   "cell_type": "code",
   "execution_count": 49,
   "metadata": {},
   "outputs": [
    {
     "name": "stdout",
     "output_type": "stream",
     "text": [
      "['Andy', 'Angelica']\n"
     ]
    }
   ],
   "source": [
    "#filter(function, iterable)\n",
    "#look for names with letter a\n",
    "\n",
    "names= ['Bob', 'Andy', 'Max', 'Angelica', 'Derek'] #iterable\n",
    "def a_names(name):\n",
    "    if name[0].lower() == 'a':  #if bob at index [0] is equal to a\n",
    "        return True\n",
    "    else:\n",
    "        return False #bob max and derek to not return True\n",
    "new_names = list(filter(a_names, names))\n",
    "                        #function, list iterable\n",
    "print(new_names)\n",
    "\n",
    "\n"
   ]
  },
  {
   "cell_type": "markdown",
   "metadata": {},
   "source": [
    "#### Using Lambda's with Filter()"
   ]
  },
  {
   "cell_type": "code",
   "execution_count": 50,
   "metadata": {},
   "outputs": [
    {
     "name": "stdout",
     "output_type": "stream",
     "text": [
      "['Andy', 'Angelica']\n"
     ]
    }
   ],
   "source": [
    "new_names_lamb = list(filter((lambda x: True if x[0].lower() == 'a' else False), names))\n",
    "print(new_names_lamb)"
   ]
  },
  {
   "cell_type": "markdown",
   "metadata": {},
   "source": [
    "#### In-Class Exercise #3 <br>\n",
    "<p>Filter out all the numbers that are below the mean of the list.<br><b>Hint: Import the 'statistics' module</b></p>"
   ]
  },
  {
   "cell_type": "code",
   "execution_count": 56,
   "metadata": {},
   "outputs": [
    {
     "name": "stdout",
     "output_type": "stream",
     "text": [
      "<function mean_nums at 0x7fed6bf90670>\n",
      "[7, 9, 4.9]\n"
     ]
    }
   ],
   "source": [
    "from statistics import mean\n",
    "\n",
    "#filter out nums if they are less than total mean and return greater than\n",
    "\n",
    "nums = [2,7,4.2,1.6,9,4.4,4.9]\n",
    "mean(nums)  #compare to the mean of nums\n",
    "#expected output [7,9,4.9]\n",
    "\n",
    "def mean_nums(num):\n",
    "    if num > mean(nums):\n",
    "        return True\n",
    "    else:\n",
    "        return False\n",
    "new_mean_num = list(filter(mean_nums, nums))\n",
    "print(mean_nums)\n",
    "\n",
    "\n",
    "the_mean_nums = list(filter((lambda x: True if x > mean(nums) else False), nums))\n",
    "print(the_mean_nums)\n"
   ]
  },
  {
   "cell_type": "markdown",
   "metadata": {},
   "source": [
    "## Reduce() <br>\n",
    "<p>Be very careful when using this function, as of Python 3 it's been moved to the 'functools' library and no longer is a built-in function.<br>The creator of Python himself, says to just use a for loop instead.</p>"
   ]
  },
  {
   "cell_type": "markdown",
   "metadata": {},
   "source": [
    "#### Syntax"
   ]
  },
  {
   "cell_type": "code",
   "execution_count": 58,
   "metadata": {},
   "outputs": [
    {
     "name": "stdout",
     "output_type": "stream",
     "text": [
      "30\n",
      "30\n"
     ]
    }
   ],
   "source": [
    "from functools import reduce\n",
    "#reduce(function, iterable)\n",
    "list_1 = [2,4,6,8,10]\n",
    "\n",
    "def addNums(num, num2):\n",
    "    return num + num2 # 2+4=6, 6+6=12, 12+8=20, 20+10=30\n",
    "added = reduce(addNums, list_1)\n",
    "print(added)\n",
    "\n",
    "\n",
    "#regular for loop\n",
    "\n",
    "counter = 0 #starting point\n",
    "for num in list_1:\n",
    "    counter += num\n",
    "print(counter)"
   ]
  },
  {
   "cell_type": "markdown",
   "metadata": {},
   "source": [
    "#### Using Lambda's with Reduce()"
   ]
  },
  {
   "cell_type": "code",
   "execution_count": 59,
   "metadata": {},
   "outputs": [
    {
     "name": "stdout",
     "output_type": "stream",
     "text": [
      "43\n"
     ]
    }
   ],
   "source": [
    "l_3 = [1,10,2,30]\n",
    "\n",
    "reduce_lamb = reduce((lambda x,y: x+y), l_3)\n",
    "print(reduce_lamb)"
   ]
  },
  {
   "cell_type": "markdown",
   "metadata": {},
   "source": [
    "#### In-Class Exercise #4 <br>\n",
    "<p>Use the reduce function to multiply the numbers in the list below together with a lambda function.</p>"
   ]
  },
  {
   "cell_type": "code",
   "execution_count": 61,
   "metadata": {},
   "outputs": [
    {
     "name": "stdout",
     "output_type": "stream",
     "text": [
      "600\n"
     ]
    }
   ],
   "source": [
    "l_3 = [1,10,2,30]   #1*10=10*2=20*30=600\n",
    "\n",
    "reduce_mult = reduce((lambda x,y: x*y), l_3)\n",
    "print(reduce_mult)"
   ]
  },
  {
   "cell_type": "markdown",
   "metadata": {},
   "source": [
    "## Recursion <br>\n",
    "<p>Recursion means that a function is calling itself, so it contanstly executes until a base case is reached. It will then push the returning values back up the chain until the function is complete. A prime example of recursion is computing factorials... such that 5! (factorial) is 5*4*3*2*1 which equals 120.</p>"
   ]
  },
  {
   "cell_type": "markdown",
   "metadata": {},
   "source": [
    "#### Implementing a Base Case"
   ]
  },
  {
   "cell_type": "code",
   "execution_count": 62,
   "metadata": {},
   "outputs": [
    {
     "name": "stdout",
     "output_type": "stream",
     "text": [
      "addNums(5) = 5 + addNums(4)\n",
      "addNums(4) = 4 + addNums(3)\n",
      "addNums(3) = 3 + addNums(2)\n",
      "addNums(2) = 2 + addNums(1)\n",
      "addNums(1) = 1\n"
     ]
    },
    {
     "data": {
      "text/plain": [
       "15"
      ]
     },
     "execution_count": 62,
     "metadata": {},
     "output_type": "execute_result"
    }
   ],
   "source": [
    "# 5+4+3+2+1. #in order to know the answer to one integer, must know the answer to the one before it. going backwards\n",
    "\n",
    "def addNums(num): #set base case\n",
    "    if num == 1:\n",
    "        print(\"addNums(1) = 1\")\n",
    "        return num\n",
    "    else:\n",
    "        print(f\"addNums({num}) = {num} + addNums({num -1})\")\n",
    "        return num + addNums(num-1)\n",
    "addNums(5)"
   ]
  },
  {
   "cell_type": "markdown",
   "metadata": {},
   "source": [
    "#### Writing a Factorial Function"
   ]
  },
  {
   "cell_type": "code",
   "execution_count": 64,
   "metadata": {},
   "outputs": [
    {
     "data": {
      "text/plain": [
       "120"
      ]
     },
     "execution_count": 64,
     "metadata": {},
     "output_type": "execute_result"
    }
   ],
   "source": [
    "# 5 * 4 * 3 * 2 * 1\n",
    "\n",
    "def factorial(num):\n",
    "    if num == 1:\n",
    "        return 1\n",
    "    else:\n",
    "        return num * factorial(num-1)\n",
    "factorial(5)"
   ]
  },
  {
   "cell_type": "markdown",
   "metadata": {},
   "source": [
    "#### In-Class Exercise #5 <br>\n",
    "<p>Write a recursive function that subtracts all numbers to the argument given.</p>"
   ]
  },
  {
   "cell_type": "code",
   "execution_count": 67,
   "metadata": {},
   "outputs": [
    {
     "name": "stdout",
     "output_type": "stream",
     "text": [
      "3\n",
      "minusNum(5) = 5 - minusNum(4)\n",
      "minusNum(4) = 4 - minusNum(3)\n",
      "minusNum(3) = 3 - minusNum(2)\n",
      "minusNum(2) = 2 - minusNum(1)\n",
      "minusNum(1) = 1\n"
     ]
    },
    {
     "data": {
      "text/plain": [
       "3"
      ]
     },
     "execution_count": 67,
     "metadata": {},
     "output_type": "execute_result"
    }
   ],
   "source": [
    "#5-4-3-2-1\n",
    "\n",
    "def subtract(num):\n",
    "    if num == 1:\n",
    "        return 1\n",
    "    else:\n",
    "        return num - subtract(num-1)\n",
    "print(subtract(5))\n",
    "    \n",
    "\n",
    "    \n",
    "\n",
    "def minusNum(num):\n",
    "    if num == 1:\n",
    "        print(\"minusNum(1) = 1\")\n",
    "        return num\n",
    "    else:\n",
    "        print(f\"minusNum({num}) = {num} - minusNum({num -1})\")\n",
    "        return num - minusNum(num-1)\n",
    "minusNum(5)"
   ]
  },
  {
   "cell_type": "markdown",
   "metadata": {},
   "source": [
    "## Generators <br>\n",
    "<p>Generators are a type of iterable, like lists or tuples. They do not allow indexing, but they can still be iterated through with for loops. They are created using functions and the yield statement.</p>"
   ]
  },
  {
   "cell_type": "markdown",
   "metadata": {},
   "source": [
    "#### Yield Keyword <br>\n",
    "<p>The yield keyword denotes a generator, it doesn't return so it won't leave the function and reset all variables in the function scope, instead it yields the number back to the caller.</p>"
   ]
  },
  {
   "cell_type": "code",
   "execution_count": 75,
   "metadata": {},
   "outputs": [
    {
     "name": "stdout",
     "output_type": "stream",
     "text": [
      "4\n",
      "16\n",
      "36\n",
      "64\n",
      "100\n",
      "144\n",
      "196\n",
      "256\n",
      "324\n"
     ]
    }
   ],
   "source": [
    "def my_range(stop, start, step = 2):\n",
    "    while start < stop:\n",
    "        yield start**2    #yield start to the 5th #yield denotes this is a generator\n",
    "        start += step  #start is going to increment whatever step is\n",
    "\n",
    "for i in my_range(20,2):  #stepped up by 2, to the 5th power up to 20. #start at 2, increment by 2,until reach stop at 20. \n",
    "    print(i)              \n"
   ]
  },
  {
   "cell_type": "markdown",
   "metadata": {},
   "source": [
    "#### Infinite Generator"
   ]
  },
  {
   "cell_type": "code",
   "execution_count": null,
   "metadata": {},
   "outputs": [],
   "source": [
    "# bad, never create infinite loops"
   ]
  },
  {
   "cell_type": "markdown",
   "metadata": {},
   "source": [
    "#### In-Class Exercise #6 <br>\n",
    "<p>Create a generator that takes a number argument and yields that number squared, then prints each number squared until zero is reached.</p>"
   ]
  },
  {
   "cell_type": "code",
   "execution_count": 80,
   "metadata": {},
   "outputs": [
    {
     "name": "stdout",
     "output_type": "stream",
     "text": [
      "400\n",
      "361\n",
      "324\n",
      "289\n",
      "256\n",
      "225\n",
      "196\n",
      "169\n",
      "144\n",
      "121\n",
      "100\n",
      "81\n",
      "64\n",
      "49\n",
      "36\n",
      "25\n",
      "16\n",
      "9\n",
      "4\n",
      "1\n"
     ]
    }
   ],
   "source": [
    "def my_range(start, stop=0, step=1):\n",
    "    while start > stop:\n",
    "        yield start**2 20*20=400 \n",
    "        start -= step\n",
    "        \n",
    "for i in my_range(20):\n",
    "    print(i)"
   ]
  },
  {
   "cell_type": "markdown",
   "metadata": {},
   "source": [
    "# Exercises"
   ]
  },
  {
   "cell_type": "markdown",
   "metadata": {},
   "source": [
    "### Exercise #1 <br>\n",
    "<p>Filter out all of the empty strings from the list below</p>\n",
    "\n",
    "`Output: ['Argentina', 'San Diego', 'Boston', 'New York']`"
   ]
  },
  {
   "cell_type": "code",
   "execution_count": 123,
   "metadata": {},
   "outputs": [
    {
     "name": "stdout",
     "output_type": "stream",
     "text": [
      "['Argentina', 'San Diego', 'Boston', 'New York']\n"
     ]
    }
   ],
   "source": [
    "places = [\" \",\"Argentina\", \" \", \"San Diego\",\"\",\"  \",\"\",\"Boston\",\"New York\"]\n",
    "\n",
    "\n",
    "filter_place = list(filter(lambda x: x.strip(), places))\n",
    "print(filter_place)\n",
    "\n"
   ]
  },
  {
   "cell_type": "markdown",
   "metadata": {},
   "source": [
    "### Exercise #2 <br>\n",
    "<p>Write an anonymous function that sorts this list by the last name...<br><b>Hint: Use the \".sort()\" method and access the key\"</b></p>\n",
    "\n",
    "`Output: ['Victor aNisimov', 'Gary A.J. Bernstein', 'Joel Carter', 'Andrew P. Garfield', 'David hassELHOFF']`"
   ]
  },
  {
   "cell_type": "code",
   "execution_count": 121,
   "metadata": {},
   "outputs": [
    {
     "name": "stdout",
     "output_type": "stream",
     "text": [
      "['Victor aNisimov', 'Gary A.J. Bernstein', 'Joel Carter', 'Andrew P. Garfield', 'David hassELHOFF']\n"
     ]
    }
   ],
   "source": [
    "author = [\"Joel Carter\", \"Victor aNisimov\", \"Andrew P. Garfield\",\"David hassELHOFF\",\"Gary A.J. Bernstein\"]\n",
    "\n",
    "author.sort(key= lambda x: x.split()[-1].lower())\n",
    "print(author)\n",
    "\n",
    "#splitting each string and sorting based on each string\n",
    "#sorted given list\n",
    "#function that has to be run in every single value/iteration\n",
    "\n"
   ]
  },
  {
   "cell_type": "markdown",
   "metadata": {},
   "source": [
    "### Exercise #3 <br>\n",
    "<p>Convert the list below from Celsius to Farhenheit, using the map function with a lambda...</p>\n",
    "\n",
    "`Output: [('Nashua', 89.6), ('Boston', 53.6), ('Los Angelos', 111.2), ('Miami', 84.2)]\n",
    "`"
   ]
  },
  {
   "cell_type": "code",
   "execution_count": 176,
   "metadata": {},
   "outputs": [
    {
     "name": "stdout",
     "output_type": "stream",
     "text": [
      "[('Nashua', 89.6), ('Boston', 53.6), ('Los Angelos', 111.2), ('Miami', 84.2)]\n"
     ]
    }
   ],
   "source": [
    "# f = (9/5)*C + 32\n",
    "places = [('Nashua',32),(\"Boston\",12),(\"Los Angelos\",44),(\"Miami\",29)]\n",
    "\n",
    "# def convertFar(name, temp):\n",
    "#     farTemp = (9/5)*temp + 32\n",
    "#     return name, farTemp\n",
    "\n",
    "# for place in places:\n",
    "#     temp = convertFar(place[0],place[1])\n",
    "#     print(temp)\n",
    "    \n",
    "\n",
    "    \n",
    "convert = list(map(lambda x: (x[0], (9/5)*x[1] + 32), places))\n",
    "print(convert)"
   ]
  },
  {
   "cell_type": "markdown",
   "metadata": {},
   "source": [
    "### Exercise #4 <br>\n",
    "<p>Write a recursion function to perform the fibonacci sequence up to the number passed in.</p>\n",
    "\n",
    "`Output for fib(5) => \n",
    "Iteration 0: 1\n",
    "Iteration 1: 1\n",
    "Iteration 2: 2\n",
    "Iteration 3: 3\n",
    "Iteration 4: 5\n",
    "Iteration 5: 8`"
   ]
  },
  {
   "cell_type": "code",
   "execution_count": 253,
   "metadata": {
    "scrolled": true
   },
   "outputs": [
    {
     "name": "stdout",
     "output_type": "stream",
     "text": [
      "Iteration 4 : 3\n",
      "Iteration 3 : 2\n",
      "Iteration 2 : 1\n",
      "Iteration 1 : 0\n",
      "Iteration 1 : 0\n",
      "Iteration 2 : 1\n",
      "Iteration 1 : 0\n",
      "8\n"
     ]
    }
   ],
   "source": [
    "# must find 0 and 1, 1+1=2\n",
    "\n",
    "def fib(num):\n",
    "    if num == 0 or num == 1:\n",
    "        return 1\n",
    "    else:\n",
    "        print(f\"Iteration {num-1} : {num-2}\")\n",
    "        return fib(num-1) + fib(num-2)\n",
    "print(fib(5))\n",
    "\n",
    "\n"
   ]
  }
 ],
 "metadata": {
  "kernelspec": {
   "display_name": "Python 3",
   "language": "python",
   "name": "python3"
  },
  "language_info": {
   "codemirror_mode": {
    "name": "ipython",
    "version": 3
   },
   "file_extension": ".py",
   "mimetype": "text/x-python",
   "name": "python",
   "nbconvert_exporter": "python",
   "pygments_lexer": "ipython3",
   "version": "3.8.8"
  }
 },
 "nbformat": 4,
 "nbformat_minor": 2
}
